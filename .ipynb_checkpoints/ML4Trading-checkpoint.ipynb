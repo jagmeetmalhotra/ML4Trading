{
 "cells": [
  {
   "cell_type": "code",
   "execution_count": 1,
   "id": "4ae27607",
   "metadata": {},
   "outputs": [
    {
     "name": "stderr",
     "output_type": "stream",
     "text": [
      "\r",
      "[*********************100%***********************]  1 of 1 completed"
     ]
    },
    {
     "name": "stdout",
     "output_type": "stream",
     "text": [
      "Stock data for AAPL saved to data/AAPL.csv\n"
     ]
    },
    {
     "name": "stderr",
     "output_type": "stream",
     "text": [
      "\n"
     ]
    }
   ],
   "source": [
    "import yfinance as yf\n",
    "import pandas as pd\n",
    "\n",
    "# Define the stock symbol and time period\n",
    "stock_symbol = 'AAPL'\n",
    "start_date = '2020-01-01'\n",
    "end_date = '2024-12-31'\n",
    "\n",
    "# Fetch the stock data\n",
    "stock_data = yf.download(stock_symbol, start=start_date, end=end_date)\n",
    "\n",
    "# Save the data to a CSV file\n",
    "csv_file_path = 'data/AAPL.csv'\n",
    "stock_data.to_csv(csv_file_path)\n",
    "\n",
    "print(f\"Stock data for {stock_symbol} saved to {csv_file_path}\")"
   ]
  },
  {
   "cell_type": "code",
   "execution_count": 1,
   "id": "376e5394",
   "metadata": {},
   "outputs": [
    {
     "name": "stdout",
     "output_type": "stream",
     "text": [
      "            Date        Open        High         Low       Close   Adj Close  \\\n",
      "1173  2024-08-30  230.190002  230.399994  227.479996  229.000000  229.000000   \n",
      "1174  2024-09-03  228.550003  229.000000  221.169998  222.770004  222.770004   \n",
      "1175  2024-09-04  221.660004  221.779999  217.479996  220.850006  220.850006   \n",
      "1176  2024-09-05  221.630005  225.479996  221.520004  222.380005  222.380005   \n",
      "1177  2024-09-06  223.949997  225.240005  219.770004  220.820007  220.820007   \n",
      "\n",
      "        Volume  \n",
      "1173  52990800  \n",
      "1174  50042900  \n",
      "1175  43840200  \n",
      "1176  36615400  \n",
      "1177  48388600  \n",
      "          Date       Open       High        Low      Close  Adj Close  \\\n",
      "10  2020-01-16  78.397499  78.925003  78.022499  78.809998  76.488968   \n",
      "11  2020-01-17  79.067497  79.684998  78.750000  79.682503  77.335777   \n",
      "12  2020-01-21  79.297501  79.754997  79.000000  79.142502  76.811684   \n",
      "13  2020-01-22  79.644997  79.997498  79.327499  79.425003  77.085884   \n",
      "14  2020-01-23  79.480003  79.889999  78.912498  79.807503  77.457108   \n",
      "15  2020-01-24  80.062500  80.832497  79.379997  79.577499  77.233871   \n",
      "16  2020-01-27  77.514999  77.942497  76.220001  77.237503  74.962791   \n",
      "17  2020-01-28  78.150002  79.599998  78.047501  79.422501  77.083435   \n",
      "18  2020-01-29  81.112503  81.962502  80.345001  81.084999  78.696968   \n",
      "19  2020-01-30  80.135002  81.022499  79.687500  80.967499  78.582939   \n",
      "20  2020-01-31  80.232498  80.669998  77.072502  77.377502  75.098671   \n",
      "\n",
      "       Volume  \n",
      "10  108829200  \n",
      "11  137816400  \n",
      "12  110843200  \n",
      "13  101832400  \n",
      "14  104472000  \n",
      "15  146537600  \n",
      "16  161940000  \n",
      "17  162234000  \n",
      "18  216229200  \n",
      "19  126743200  \n",
      "20  199588400  \n"
     ]
    }
   ],
   "source": [
    "import pandas as pd\n",
    "\n",
    "\n",
    "def test_run():\n",
    "    \"\"\"Function called by Test Run.\"\"\"\n",
    "    df = pd.read_csv(\"data/AAPL.csv\")\n",
    "    # TODO: Print last 5 rows of the data frame\n",
    "    print(df.tail())\n",
    "    \n",
    "def range_print():\n",
    "    df = pd.read_csv(\"data/AAPL.csv\")\n",
    "    #rows between 10 and 20 , 21 as last index is not inclusive \n",
    "    print(df[10:21])\n",
    "\n",
    "\n",
    "if __name__ == \"__main__\":\n",
    "    test_run()\n",
    "    range_print()"
   ]
  },
  {
   "cell_type": "code",
   "execution_count": 3,
   "id": "f50d061e",
   "metadata": {},
   "outputs": [
    {
     "name": "stderr",
     "output_type": "stream",
     "text": [
      "\r",
      "[*********************100%***********************]  1 of 1 completed"
     ]
    },
    {
     "name": "stdout",
     "output_type": "stream",
     "text": [
      "Stock data for IBM saved to data/IBM.csv\n"
     ]
    },
    {
     "name": "stderr",
     "output_type": "stream",
     "text": [
      "\n"
     ]
    }
   ],
   "source": [
    "import yfinance as yf\n",
    "import pandas as pd \n",
    "\n",
    "stock_symbol = 'IBM'\n",
    "start_date = '2020-01-01'\n",
    "end_date = '2024-12-31'\n",
    "\n",
    "# Fetch the stock data\n",
    "stock_data = yf.download(stock_symbol, start=start_date, end=end_date)\n",
    "\n",
    "# Save the data to a CSV file\n",
    "csv_file_path = 'data/IBM.csv'\n",
    "stock_data.to_csv(csv_file_path)\n",
    "\n",
    "print(f\"Stock data for {stock_symbol} saved to {csv_file_path}\")"
   ]
  },
  {
   "cell_type": "code",
   "execution_count": 11,
   "id": "1d64afaa",
   "metadata": {},
   "outputs": [
    {
     "name": "stdout",
     "output_type": "stream",
     "text": [
      "Max close : AAPL : 234.82000732421875\n",
      "Max close : IBM : 204.1100006103516\n"
     ]
    }
   ],
   "source": [
    "import pandas as pd\n",
    "def get_max_close(symbol):\n",
    "    #read the data\n",
    "    df= pd.read_csv(\"data/{}.csv\".format(symbol))\n",
    "    #compute the return max\n",
    "    return df['Close'].max()\n",
    "\n",
    "def test_run():\n",
    "    for symbol in ['AAPL','IBM']:\n",
    "        print('Max close : ' + symbol + ' : ' + str(get_max_close(symbol)))\n",
    "        \n",
    "if __name__ == \"__main__\":\n",
    "    test_run()"
   ]
  },
  {
   "cell_type": "code",
   "execution_count": null,
   "id": "e922c50f",
   "metadata": {},
   "outputs": [],
   "source": []
  }
 ],
 "metadata": {
  "kernelspec": {
   "display_name": "Python 3 (ipykernel)",
   "language": "python",
   "name": "python3"
  },
  "language_info": {
   "codemirror_mode": {
    "name": "ipython",
    "version": 3
   },
   "file_extension": ".py",
   "mimetype": "text/x-python",
   "name": "python",
   "nbconvert_exporter": "python",
   "pygments_lexer": "ipython3",
   "version": "3.10.9"
  }
 },
 "nbformat": 4,
 "nbformat_minor": 5
}
