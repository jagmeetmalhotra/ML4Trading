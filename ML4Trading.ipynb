{
 "cells": [
  {
   "cell_type": "code",
   "execution_count": 1,
   "id": "4ae27607",
   "metadata": {},
   "outputs": [
    {
     "name": "stderr",
     "output_type": "stream",
     "text": [
      "\r",
      "[*********************100%***********************]  1 of 1 completed"
     ]
    },
    {
     "name": "stdout",
     "output_type": "stream",
     "text": [
      "Stock data for AAPL saved to data/AAPL.csv\n"
     ]
    },
    {
     "name": "stderr",
     "output_type": "stream",
     "text": [
      "\n"
     ]
    }
   ],
   "source": [
    "import yfinance as yf\n",
    "import pandas as pd\n",
    "\n",
    "# Define the stock symbol and time period\n",
    "stock_symbol = 'AAPL'\n",
    "start_date = '2020-01-01'\n",
    "end_date = '2024-12-31'\n",
    "\n",
    "# Fetch the stock data\n",
    "stock_data = yf.download(stock_symbol, start=start_date, end=end_date)\n",
    "\n",
    "# Save the data to a CSV file\n",
    "csv_file_path = 'data/AAPL.csv'\n",
    "stock_data.to_csv(csv_file_path)\n",
    "\n",
    "print(f\"Stock data for {stock_symbol} saved to {csv_file_path}\")"
   ]
  },
  {
   "cell_type": "code",
   "execution_count": 2,
   "id": "376e5394",
   "metadata": {},
   "outputs": [
    {
     "name": "stdout",
     "output_type": "stream",
     "text": [
      "            Date        Open        High         Low       Close   Adj Close  \\\n",
      "1173  2024-08-30  230.190002  230.399994  227.479996  229.000000  229.000000   \n",
      "1174  2024-09-03  228.550003  229.000000  221.169998  222.770004  222.770004   \n",
      "1175  2024-09-04  221.660004  221.779999  217.479996  220.850006  220.850006   \n",
      "1176  2024-09-05  221.630005  225.479996  221.520004  222.380005  222.380005   \n",
      "1177  2024-09-06  223.949997  225.240005  219.770004  220.820007  220.820007   \n",
      "\n",
      "        Volume  \n",
      "1173  52990800  \n",
      "1174  50042900  \n",
      "1175  43840200  \n",
      "1176  36615400  \n",
      "1177  48388600  \n"
     ]
    }
   ],
   "source": [
    "import pandas as pd\n",
    "\n",
    "\n",
    "def test_run():\n",
    "    \"\"\"Function called by Test Run.\"\"\"\n",
    "    df = pd.read_csv(\"data/AAPL.csv\")\n",
    "    # TODO: Print last 5 rows of the data frame\n",
    "    print(df.tail())\n",
    "\n",
    "\n",
    "if __name__ == \"__main__\":\n",
    "    test_run()"
   ]
  },
  {
   "cell_type": "code",
   "execution_count": null,
   "id": "1d64afaa",
   "metadata": {},
   "outputs": [],
   "source": []
  },
  {
   "cell_type": "code",
   "execution_count": null,
   "id": "f24f7678",
   "metadata": {},
   "outputs": [],
   "source": []
  }
 ],
 "metadata": {
  "kernelspec": {
   "display_name": "Python 3 (ipykernel)",
   "language": "python",
   "name": "python3"
  },
  "language_info": {
   "codemirror_mode": {
    "name": "ipython",
    "version": 3
   },
   "file_extension": ".py",
   "mimetype": "text/x-python",
   "name": "python",
   "nbconvert_exporter": "python",
   "pygments_lexer": "ipython3",
   "version": "3.10.9"
  }
 },
 "nbformat": 4,
 "nbformat_minor": 5
}
